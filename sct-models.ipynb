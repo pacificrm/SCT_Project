{
 "cells": [
  {
   "cell_type": "markdown",
   "metadata": {},
   "source": [
    "# Imports"
   ]
  },
  {
   "cell_type": "code",
   "execution_count": 7,
   "metadata": {
    "execution": {
     "iopub.execute_input": "2025-01-07T20:51:44.356645Z",
     "iopub.status.busy": "2025-01-07T20:51:44.356196Z",
     "iopub.status.idle": "2025-01-07T20:51:44.362846Z",
     "shell.execute_reply": "2025-01-07T20:51:44.361732Z",
     "shell.execute_reply.started": "2025-01-07T20:51:44.356616Z"
    },
    "trusted": true
   },
   "outputs": [],
   "source": [
    "import os\n",
    "import gdown\n",
    "import pandas as pd\n",
    "import zipfile\n",
    "from PIL import Image\n",
    "import torch\n",
    "from tqdm import tqdm\n",
    "import torch.nn as nn\n",
    "import torch.optim as optim\n",
    "import matplotlib.pyplot as plt\n",
    "from torchvision import datasets, transforms, models\n",
    "from torch.utils.data import TensorDataset,Dataset, DataLoader\n",
    "from sklearn.metrics import accuracy_score, recall_score, precision_score, f1_score"
   ]
  },
  {
   "cell_type": "markdown",
   "metadata": {},
   "source": [
    "# Downloading Dataset"
   ]
  },
  {
   "cell_type": "code",
   "execution_count": 8,
   "metadata": {
    "execution": {
     "iopub.execute_input": "2025-01-07T20:51:44.364534Z",
     "iopub.status.busy": "2025-01-07T20:51:44.364228Z",
     "iopub.status.idle": "2025-01-07T20:51:55.454475Z",
     "shell.execute_reply": "2025-01-07T20:51:55.453487Z",
     "shell.execute_reply.started": "2025-01-07T20:51:44.364509Z"
    },
    "trusted": true
   },
   "outputs": [
    {
     "name": "stdout",
     "output_type": "stream",
     "text": [
      "Downloading labels.csv...\n"
     ]
    },
    {
     "name": "stderr",
     "output_type": "stream",
     "text": [
      "Downloading...\n",
      "From: https://drive.google.com/uc?id=1JY6RO6sFtUgrenkEGSkYv9B4alMkTgs9\n",
      "To: /kaggle/working/labels.csv\n",
      "100%|██████████| 785k/785k [00:00<00:00, 101MB/s]\n"
     ]
    },
    {
     "name": "stdout",
     "output_type": "stream",
     "text": [
      "Downloading positionImageDataset.zip...\n"
     ]
    },
    {
     "name": "stderr",
     "output_type": "stream",
     "text": [
      "Downloading...\n",
      "From (original): https://drive.google.com/uc?id=1WBEnwqc7ABEI5ujkm56s8LlOO9B4Qn8d\n",
      "From (redirected): https://drive.google.com/uc?id=1WBEnwqc7ABEI5ujkm56s8LlOO9B4Qn8d&confirm=t&uuid=f33b6f06-0116-47ae-bcef-825195768ea9\n",
      "To: /kaggle/working/positionImageDataset.zip\n",
      "100%|██████████| 652M/652M [00:03<00:00, 217MB/s] \n"
     ]
    }
   ],
   "source": [
    "file_ids = {\n",
    "    \"labels.csv\": \"1JY6RO6sFtUgrenkEGSkYv9B4alMkTgs9\",\n",
    "    \"positionImageDataset.zip\": \"1WBEnwqc7ABEI5ujkm56s8LlOO9B4Qn8d\"\n",
    "}\n",
    "\n",
    "download_paths = {\n",
    "    \"labels.csv\": \"labels.csv\",\n",
    "    \"positionImageDataset.zip\": \"positionImageDataset.zip\"\n",
    "}\n",
    "\n",
    "# Download files\n",
    "for file_name, file_id in file_ids.items():\n",
    "    url = f\"https://drive.google.com/uc?id={file_id}\"\n",
    "    output_path = download_paths[file_name]\n",
    "    print(f\"Downloading {file_name}...\")\n",
    "    gdown.download(url, output_path, quiet=False)"
   ]
  },
  {
   "cell_type": "code",
   "execution_count": 58,
   "metadata": {
    "execution": {
     "iopub.execute_input": "2025-01-07T22:10:28.450807Z",
     "iopub.status.busy": "2025-01-07T22:10:28.450263Z",
     "iopub.status.idle": "2025-01-07T22:10:33.069869Z",
     "shell.execute_reply": "2025-01-07T22:10:33.069030Z",
     "shell.execute_reply.started": "2025-01-07T22:10:28.450754Z"
    },
    "trusted": true
   },
   "outputs": [
    {
     "name": "stdout",
     "output_type": "stream",
     "text": [
      "Extracting positionImageDataset.zip...\n",
      "Extracted to folder: positionImageDataset\n",
      "Loading labels.csv...\n"
     ]
    }
   ],
   "source": [
    "# Extract ZIP\n",
    "zip_path = download_paths[\"positionImageDataset.zip\"]\n",
    "extracted_folder = \"positionImageDataset\"\n",
    "if os.path.exists(zip_path):\n",
    "    print(\"Extracting positionImageDataset.zip...\")\n",
    "    with zipfile.ZipFile(zip_path, 'r') as zip_ref:\n",
    "        zip_ref.extractall(extracted_folder)\n",
    "    print(f\"Extracted to folder: {extracted_folder}\")\n",
    "\n",
    "#  Load labels.csv\n",
    "csv_path = download_paths[\"labels.csv\"]\n",
    "if os.path.exists(csv_path):\n",
    "    print(\"Loading labels.csv...\")\n",
    "    labels = pd.read_csv(csv_path)\n",
    "else:\n",
    "    raise FileNotFoundError(f\"CSV file {csv_path} not found!\")"
   ]
  },
  {
   "cell_type": "markdown",
   "metadata": {},
   "source": [
    "# Analysing Dataset"
   ]
  },
  {
   "cell_type": "code",
   "execution_count": 10,
   "metadata": {
    "execution": {
     "iopub.execute_input": "2025-01-07T20:52:00.151221Z",
     "iopub.status.busy": "2025-01-07T20:52:00.150875Z",
     "iopub.status.idle": "2025-01-07T20:52:00.162232Z",
     "shell.execute_reply": "2025-01-07T20:52:00.161315Z",
     "shell.execute_reply.started": "2025-01-07T20:52:00.151188Z"
    },
    "trusted": true
   },
   "outputs": [
    {
     "data": {
      "text/plain": [
       "PositionImage_FileName                            0\n",
       "Room Ligiting                                     0\n",
       "Both hands on table?                              0\n",
       "Can able to see student along with full table?    0\n",
       "Computer Screen Visible?                          1\n",
       "Final Decision for uploaded Image                 0\n",
       "dtype: int64"
      ]
     },
     "execution_count": 10,
     "metadata": {},
     "output_type": "execute_result"
    }
   ],
   "source": [
    "labels.isna().sum()    # Checking Null Values"
   ]
  },
  {
   "cell_type": "code",
   "execution_count": 59,
   "metadata": {
    "execution": {
     "iopub.execute_input": "2025-01-07T22:10:37.550968Z",
     "iopub.status.busy": "2025-01-07T22:10:37.550584Z",
     "iopub.status.idle": "2025-01-07T22:10:37.570376Z",
     "shell.execute_reply": "2025-01-07T22:10:37.568985Z",
     "shell.execute_reply.started": "2025-01-07T22:10:37.550927Z"
    },
    "trusted": true
   },
   "outputs": [],
   "source": [
    "# Process labels.csv\n",
    "df = labels.copy()\n",
    "\n",
    "# Define mappings for categorical labels\n",
    "label_mappings = {\n",
    "    'Room Ligiting': {'Visible': 1, 'Dark': 0},\n",
    "    'Both hands on table?': {'Yes': 1, 'No': 0},\n",
    "    'Can able to see student along with full table?': {'Yes': 1, 'No': 0},\n",
    "    'Computer Screen Visible?': {'Yes': 1, 'No': 0},\n",
    "    'Final Decision for uploaded Image': {'Approved': 1, 'Rejected': 0}\n",
    "}\n",
    "\n",
    "# Apply mappings to convert categorical labels to numeric\n",
    "for column, mapping in label_mappings.items():\n",
    "    df[column] = df[column].map(mapping)\n",
    "\n",
    "# Calculate counts and percentages\n",
    "total_images = len(df)\n",
    "results = {\n",
    "    \"Label\": [],\n",
    "    \"Count (1s)\": [],\n",
    "    \"Percentage (1s) (%)\": [],\n",
    "    \"Count (0s)\": [],\n",
    "    \"Percentage (0s) (%)\": []\n",
    "}\n",
    "\n",
    "for column in df.columns[1:]:  # Exclude 'PositionImage_FileName'\n",
    "    count_1s = df[column].sum()  # Count of 1s\n",
    "    percentage_1s = (count_1s / total_images) * 100\n",
    "    count_0s = total_images - count_1s  # Count of 0s\n",
    "    percentage_0s = (count_0s / total_images) * 100\n",
    "\n",
    "    results[\"Label\"].append(column)\n",
    "    results[\"Count (1s)\"].append(count_1s)\n",
    "    results[\"Percentage (1s) (%)\"].append(round(percentage_1s, 2))\n",
    "    results[\"Count (0s)\"].append(count_0s)\n",
    "    results[\"Percentage (0s) (%)\"].append(round(percentage_0s, 2))\n",
    "\n",
    "results_df = pd.DataFrame(results)\n",
    "# print(\"Processed Labels Summary:\")\n",
    "# print(results_df)"
   ]
  },
  {
   "cell_type": "markdown",
   "metadata": {},
   "source": [
    "## Total Dataset Distribution"
   ]
  },
  {
   "cell_type": "code",
   "execution_count": 60,
   "metadata": {
    "execution": {
     "iopub.execute_input": "2025-01-07T22:10:42.519361Z",
     "iopub.status.busy": "2025-01-07T22:10:42.519026Z",
     "iopub.status.idle": "2025-01-07T22:10:42.532042Z",
     "shell.execute_reply": "2025-01-07T22:10:42.531021Z",
     "shell.execute_reply.started": "2025-01-07T22:10:42.519332Z"
    },
    "trusted": true
   },
   "outputs": [
    {
     "data": {
      "text/html": [
       "<div>\n",
       "<style scoped>\n",
       "    .dataframe tbody tr th:only-of-type {\n",
       "        vertical-align: middle;\n",
       "    }\n",
       "\n",
       "    .dataframe tbody tr th {\n",
       "        vertical-align: top;\n",
       "    }\n",
       "\n",
       "    .dataframe thead th {\n",
       "        text-align: right;\n",
       "    }\n",
       "</style>\n",
       "<table border=\"1\" class=\"dataframe\">\n",
       "  <thead>\n",
       "    <tr style=\"text-align: right;\">\n",
       "      <th></th>\n",
       "      <th>Label</th>\n",
       "      <th>Count (1s)</th>\n",
       "      <th>Percentage (1s) (%)</th>\n",
       "      <th>Count (0s)</th>\n",
       "      <th>Percentage (0s) (%)</th>\n",
       "    </tr>\n",
       "  </thead>\n",
       "  <tbody>\n",
       "    <tr>\n",
       "      <th>0</th>\n",
       "      <td>Room Ligiting</td>\n",
       "      <td>10238.0</td>\n",
       "      <td>91.48</td>\n",
       "      <td>954.0</td>\n",
       "      <td>8.52</td>\n",
       "    </tr>\n",
       "    <tr>\n",
       "      <th>1</th>\n",
       "      <td>Both hands on table?</td>\n",
       "      <td>8865.0</td>\n",
       "      <td>79.21</td>\n",
       "      <td>2327.0</td>\n",
       "      <td>20.79</td>\n",
       "    </tr>\n",
       "    <tr>\n",
       "      <th>2</th>\n",
       "      <td>Can able to see student along with full table?</td>\n",
       "      <td>9635.0</td>\n",
       "      <td>86.09</td>\n",
       "      <td>1557.0</td>\n",
       "      <td>13.91</td>\n",
       "    </tr>\n",
       "    <tr>\n",
       "      <th>3</th>\n",
       "      <td>Computer Screen Visible?</td>\n",
       "      <td>9478.0</td>\n",
       "      <td>84.69</td>\n",
       "      <td>1714.0</td>\n",
       "      <td>15.31</td>\n",
       "    </tr>\n",
       "    <tr>\n",
       "      <th>4</th>\n",
       "      <td>Final Decision for uploaded Image</td>\n",
       "      <td>7989.0</td>\n",
       "      <td>71.38</td>\n",
       "      <td>3203.0</td>\n",
       "      <td>28.62</td>\n",
       "    </tr>\n",
       "  </tbody>\n",
       "</table>\n",
       "</div>"
      ],
      "text/plain": [
       "                                            Label  Count (1s)  \\\n",
       "0                                   Room Ligiting     10238.0   \n",
       "1                            Both hands on table?      8865.0   \n",
       "2  Can able to see student along with full table?      9635.0   \n",
       "3                        Computer Screen Visible?      9478.0   \n",
       "4               Final Decision for uploaded Image      7989.0   \n",
       "\n",
       "   Percentage (1s) (%)  Count (0s)  Percentage (0s) (%)  \n",
       "0                91.48       954.0                 8.52  \n",
       "1                79.21      2327.0                20.79  \n",
       "2                86.09      1557.0                13.91  \n",
       "3                84.69      1714.0                15.31  \n",
       "4                71.38      3203.0                28.62  "
      ]
     },
     "execution_count": 60,
     "metadata": {},
     "output_type": "execute_result"
    }
   ],
   "source": [
    "results_df"
   ]
  },
  {
   "cell_type": "markdown",
   "metadata": {},
   "source": [
    "# Splitting and Loading the Dataset"
   ]
  },
  {
   "cell_type": "code",
   "execution_count": 61,
   "metadata": {
    "execution": {
     "iopub.execute_input": "2025-01-07T22:10:46.110364Z",
     "iopub.status.busy": "2025-01-07T22:10:46.110030Z",
     "iopub.status.idle": "2025-01-07T22:10:46.259074Z",
     "shell.execute_reply": "2025-01-07T22:10:46.257983Z",
     "shell.execute_reply.started": "2025-01-07T22:10:46.110336Z"
    },
    "trusted": true
   },
   "outputs": [
    {
     "name": "stdout",
     "output_type": "stream",
     "text": [
      "Image Batch Shape: torch.Size([32, 3, 240, 240])\n",
      "Attribute Labels Shape: torch.Size([32, 4])\n",
      "Final Labels Shape: torch.Size([32])\n"
     ]
    }
   ],
   "source": [
    "# Define PyTorch Dataset\n",
    "class PositionalImageDataset(Dataset):\n",
    "    def __init__(self, image_dir, labels_csv, transform=None):\n",
    "        self.image_dir = image_dir\n",
    "        self.labels = pd.read_csv(labels_csv).fillna('Yes')\n",
    "        self.transform = transform\n",
    "        self.label_mappings = {\n",
    "            'Room Ligiting': {'Visible': 1, 'Dark': 0},\n",
    "            'Both hands on table?': {'Yes': 1, 'No': 0},\n",
    "            'Can able to see student along with full table?': {'Yes': 1, 'No': 0},\n",
    "            'Computer Screen Visible?': {'Yes': 1, 'No': 0},\n",
    "            'Final Decision for uploaded Image': {'Approved': 1, 'Rejected': 0}\n",
    "        }\n",
    "\n",
    "    def __len__(self):\n",
    "        return len(self.labels)\n",
    "\n",
    "    def __getitem__(self, idx):\n",
    "        try:\n",
    "            img_name = self.labels.iloc[idx, 0]\n",
    "            img_path = os.path.join(self.image_dir, img_name)\n",
    "\n",
    "            if not os.path.exists(img_path):\n",
    "                raise FileNotFoundError(f\"Image file not found: {img_path}\")\n",
    "\n",
    "            image = Image.open(img_path).convert(\"RGB\")\n",
    "            if self.transform:\n",
    "                image = self.transform(image)\n",
    "\n",
    "            row = self.labels.iloc[idx, 1:]\n",
    "            encoded_labels = []\n",
    "            for column_name, mapping in self.label_mappings.items():\n",
    "                value = row[column_name]\n",
    "                if value not in mapping:\n",
    "                    raise ValueError(f\"Unexpected value '{value}' in column '{column_name}'.\")\n",
    "                encoded_labels.append(mapping[value])\n",
    "            encoded_labels = torch.tensor(encoded_labels, dtype=torch.float32)\n",
    "\n",
    "            attribute_labels = encoded_labels[:-1]\n",
    "            final_label = encoded_labels[-1]\n",
    "            return image, attribute_labels, final_label\n",
    "\n",
    "        except Exception as e:\n",
    "            print(f\"Error at index {idx}: {e}\")\n",
    "            raise\n",
    "\n",
    "\n",
    "\n",
    "# Initialize Dataset and DataLoader\n",
    "image_dir = os.path.join(extracted_folder, \"positionImageDataset\")\n",
    "transform = transforms.Compose([\n",
    "    transforms.ToTensor(),\n",
    "    transforms.Normalize(mean=[0.485, 0.456, 0.406], std=[0.229, 0.224, 0.225]),\n",
    "])\n",
    "\n",
    "dataset = PositionalImageDataset(image_dir=image_dir, labels_csv=csv_path, transform=transform)\n",
    "\n",
    "train_size = int(0.8 * len(dataset))\n",
    "val_size = len(dataset) - train_size\n",
    "train_dataset, val_dataset = torch.utils.data.random_split(dataset, [train_size, val_size])\n",
    "\n",
    "train_loader = DataLoader(train_dataset, batch_size=32, shuffle=True)\n",
    "val_loader = DataLoader(val_dataset, batch_size=32, shuffle=False)\n",
    "\n",
    "# Debugging: Print shapes of one batch\n",
    "for images, attribute_labels, final_labels in train_loader:\n",
    "    print(\"Image Batch Shape:\", images.shape)\n",
    "    print(\"Attribute Labels Shape:\", attribute_labels.shape)\n",
    "    print(\"Final Labels Shape:\", final_labels.shape)\n",
    "    break"
   ]
  },
  {
   "cell_type": "markdown",
   "metadata": {},
   "source": [
    "## Training and validation Dataset Distributions"
   ]
  },
  {
   "cell_type": "code",
   "execution_count": 77,
   "metadata": {
    "execution": {
     "iopub.execute_input": "2025-01-07T22:33:48.610877Z",
     "iopub.status.busy": "2025-01-07T22:33:48.610473Z",
     "iopub.status.idle": "2025-01-07T22:34:26.359873Z",
     "shell.execute_reply": "2025-01-07T22:34:26.358719Z",
     "shell.execute_reply.started": "2025-01-07T22:33:48.610844Z"
    },
    "trusted": true
   },
   "outputs": [
    {
     "name": "stdout",
     "output_type": "stream",
     "text": [
      "Training Set Label Statistics:\n",
      "                                            Label  Count (1s)  \\\n",
      "0                                   Room Ligiting        8189   \n",
      "1                            Both hands on table?        7112   \n",
      "2  Can able to see student along with full table?        7715   \n",
      "3                        Computer Screen Visible?        7577   \n",
      "4               Final Decision for uploaded Image        6407   \n",
      "\n",
      "   Percentage (1s) (%)  Count (0s)  Percentage (0s) (%)  \n",
      "0                91.47         764                 8.53  \n",
      "1                79.44        1841                20.56  \n",
      "2                86.17        1238                13.83  \n",
      "3                84.63        1376                15.37  \n",
      "4                71.56        2546                28.44  \n",
      "\n",
      "Validation Set Label Statistics:\n",
      "                                            Label  Count (1s)  \\\n",
      "0                                   Room Ligiting        2049   \n",
      "1                            Both hands on table?        1753   \n",
      "2  Can able to see student along with full table?        1920   \n",
      "3                        Computer Screen Visible?        1902   \n",
      "4               Final Decision for uploaded Image        1582   \n",
      "\n",
      "   Percentage (1s) (%)  Count (0s)  Percentage (0s) (%)  \n",
      "0                91.51         190                 8.49  \n",
      "1                78.29         486                21.71  \n",
      "2                85.75         319                14.25  \n",
      "3                84.95         337                15.05  \n",
      "4                70.66         657                29.34  \n"
     ]
    }
   ],
   "source": [
    "# Function to calculate label statistics\n",
    "def calculate_label_stats(dataset, label_columns, total_images):\n",
    "    results = {\n",
    "        \"Label\": [],\n",
    "        \"Count (1s)\": [],\n",
    "        \"Percentage (1s) (%)\": [],\n",
    "        \"Count (0s)\": [],\n",
    "        \"Percentage (0s) (%)\": []\n",
    "    }\n",
    "    \n",
    "    # Initialize counters for each label column\n",
    "    label_counts = {label: {\"1s\": 0, \"0s\": 0} for label in label_columns}\n",
    "\n",
    "    # Iterate through the dataset\n",
    "    for _, attribute_labels, final_labels in DataLoader(dataset, batch_size=32):\n",
    "        for i, label in enumerate(label_columns[:-1]):  # For attribute labels\n",
    "            label_values = attribute_labels[:, i]\n",
    "            label_counts[label][\"1s\"] += label_values.sum().item()\n",
    "            label_counts[label][\"0s\"] += (1 - label_values).sum().item()\n",
    "\n",
    "        # For the final decision label\n",
    "        label = label_columns[-1]\n",
    "        label_counts[label][\"1s\"] += final_labels.sum().item()\n",
    "        label_counts[label][\"0s\"] += (1 - final_labels).sum().item()\n",
    "\n",
    "    # Calculate percentages and organize results\n",
    "    for label, counts in label_counts.items():\n",
    "        count_1s = counts[\"1s\"]\n",
    "        count_0s = counts[\"0s\"]\n",
    "        percentage_1s = (count_1s / total_images) * 100\n",
    "        percentage_0s = (count_0s / total_images) * 100\n",
    "\n",
    "        results[\"Label\"].append(label)\n",
    "        results[\"Count (1s)\"].append(int(count_1s))\n",
    "        results[\"Percentage (1s) (%)\"].append(round(percentage_1s, 2))\n",
    "        results[\"Count (0s)\"].append(int(count_0s))\n",
    "        results[\"Percentage (0s) (%)\"].append(round(percentage_0s, 2))\n",
    "\n",
    "    return pd.DataFrame(results)\n",
    "\n",
    "# Get label columns including the final decision\n",
    "label_columns = list(dataset.label_mappings.keys())  # Include all labels\n",
    "train_total_images = len(train_dataset)\n",
    "val_total_images = len(val_dataset)\n",
    "\n",
    "# Calculate results for train and validation datasets\n",
    "train_results_df = calculate_label_stats(train_dataset, label_columns, train_total_images)\n",
    "val_results_df = calculate_label_stats(val_dataset, label_columns, val_total_images)\n",
    "\n",
    "# Display results\n",
    "print(\"Training Set Label Statistics:\")\n",
    "print(train_results_df)\n",
    "\n",
    "print(\"\\nValidation Set Label Statistics:\")\n",
    "print(val_results_df)\n"
   ]
  },
  {
   "cell_type": "code",
   "execution_count": 78,
   "metadata": {
    "execution": {
     "iopub.execute_input": "2025-01-07T22:34:51.980548Z",
     "iopub.status.busy": "2025-01-07T22:34:51.980227Z",
     "iopub.status.idle": "2025-01-07T22:34:51.991008Z",
     "shell.execute_reply": "2025-01-07T22:34:51.990104Z",
     "shell.execute_reply.started": "2025-01-07T22:34:51.980523Z"
    },
    "trusted": true
   },
   "outputs": [
    {
     "data": {
      "text/html": [
       "<div>\n",
       "<style scoped>\n",
       "    .dataframe tbody tr th:only-of-type {\n",
       "        vertical-align: middle;\n",
       "    }\n",
       "\n",
       "    .dataframe tbody tr th {\n",
       "        vertical-align: top;\n",
       "    }\n",
       "\n",
       "    .dataframe thead th {\n",
       "        text-align: right;\n",
       "    }\n",
       "</style>\n",
       "<table border=\"1\" class=\"dataframe\">\n",
       "  <thead>\n",
       "    <tr style=\"text-align: right;\">\n",
       "      <th></th>\n",
       "      <th>Label</th>\n",
       "      <th>Count (1s)</th>\n",
       "      <th>Percentage (1s) (%)</th>\n",
       "      <th>Count (0s)</th>\n",
       "      <th>Percentage (0s) (%)</th>\n",
       "    </tr>\n",
       "  </thead>\n",
       "  <tbody>\n",
       "    <tr>\n",
       "      <th>0</th>\n",
       "      <td>Room Ligiting</td>\n",
       "      <td>8189</td>\n",
       "      <td>91.47</td>\n",
       "      <td>764</td>\n",
       "      <td>8.53</td>\n",
       "    </tr>\n",
       "    <tr>\n",
       "      <th>1</th>\n",
       "      <td>Both hands on table?</td>\n",
       "      <td>7112</td>\n",
       "      <td>79.44</td>\n",
       "      <td>1841</td>\n",
       "      <td>20.56</td>\n",
       "    </tr>\n",
       "    <tr>\n",
       "      <th>2</th>\n",
       "      <td>Can able to see student along with full table?</td>\n",
       "      <td>7715</td>\n",
       "      <td>86.17</td>\n",
       "      <td>1238</td>\n",
       "      <td>13.83</td>\n",
       "    </tr>\n",
       "    <tr>\n",
       "      <th>3</th>\n",
       "      <td>Computer Screen Visible?</td>\n",
       "      <td>7577</td>\n",
       "      <td>84.63</td>\n",
       "      <td>1376</td>\n",
       "      <td>15.37</td>\n",
       "    </tr>\n",
       "    <tr>\n",
       "      <th>4</th>\n",
       "      <td>Final Decision for uploaded Image</td>\n",
       "      <td>6407</td>\n",
       "      <td>71.56</td>\n",
       "      <td>2546</td>\n",
       "      <td>28.44</td>\n",
       "    </tr>\n",
       "  </tbody>\n",
       "</table>\n",
       "</div>"
      ],
      "text/plain": [
       "                                            Label  Count (1s)  \\\n",
       "0                                   Room Ligiting        8189   \n",
       "1                            Both hands on table?        7112   \n",
       "2  Can able to see student along with full table?        7715   \n",
       "3                        Computer Screen Visible?        7577   \n",
       "4               Final Decision for uploaded Image        6407   \n",
       "\n",
       "   Percentage (1s) (%)  Count (0s)  Percentage (0s) (%)  \n",
       "0                91.47         764                 8.53  \n",
       "1                79.44        1841                20.56  \n",
       "2                86.17        1238                13.83  \n",
       "3                84.63        1376                15.37  \n",
       "4                71.56        2546                28.44  "
      ]
     },
     "execution_count": 78,
     "metadata": {},
     "output_type": "execute_result"
    }
   ],
   "source": [
    "train_results_df"
   ]
  },
  {
   "cell_type": "code",
   "execution_count": 79,
   "metadata": {
    "execution": {
     "iopub.execute_input": "2025-01-07T22:34:56.576763Z",
     "iopub.status.busy": "2025-01-07T22:34:56.576446Z",
     "iopub.status.idle": "2025-01-07T22:34:56.587285Z",
     "shell.execute_reply": "2025-01-07T22:34:56.586446Z",
     "shell.execute_reply.started": "2025-01-07T22:34:56.576739Z"
    },
    "trusted": true
   },
   "outputs": [
    {
     "data": {
      "text/html": [
       "<div>\n",
       "<style scoped>\n",
       "    .dataframe tbody tr th:only-of-type {\n",
       "        vertical-align: middle;\n",
       "    }\n",
       "\n",
       "    .dataframe tbody tr th {\n",
       "        vertical-align: top;\n",
       "    }\n",
       "\n",
       "    .dataframe thead th {\n",
       "        text-align: right;\n",
       "    }\n",
       "</style>\n",
       "<table border=\"1\" class=\"dataframe\">\n",
       "  <thead>\n",
       "    <tr style=\"text-align: right;\">\n",
       "      <th></th>\n",
       "      <th>Label</th>\n",
       "      <th>Count (1s)</th>\n",
       "      <th>Percentage (1s) (%)</th>\n",
       "      <th>Count (0s)</th>\n",
       "      <th>Percentage (0s) (%)</th>\n",
       "    </tr>\n",
       "  </thead>\n",
       "  <tbody>\n",
       "    <tr>\n",
       "      <th>0</th>\n",
       "      <td>Room Ligiting</td>\n",
       "      <td>2049</td>\n",
       "      <td>91.51</td>\n",
       "      <td>190</td>\n",
       "      <td>8.49</td>\n",
       "    </tr>\n",
       "    <tr>\n",
       "      <th>1</th>\n",
       "      <td>Both hands on table?</td>\n",
       "      <td>1753</td>\n",
       "      <td>78.29</td>\n",
       "      <td>486</td>\n",
       "      <td>21.71</td>\n",
       "    </tr>\n",
       "    <tr>\n",
       "      <th>2</th>\n",
       "      <td>Can able to see student along with full table?</td>\n",
       "      <td>1920</td>\n",
       "      <td>85.75</td>\n",
       "      <td>319</td>\n",
       "      <td>14.25</td>\n",
       "    </tr>\n",
       "    <tr>\n",
       "      <th>3</th>\n",
       "      <td>Computer Screen Visible?</td>\n",
       "      <td>1902</td>\n",
       "      <td>84.95</td>\n",
       "      <td>337</td>\n",
       "      <td>15.05</td>\n",
       "    </tr>\n",
       "    <tr>\n",
       "      <th>4</th>\n",
       "      <td>Final Decision for uploaded Image</td>\n",
       "      <td>1582</td>\n",
       "      <td>70.66</td>\n",
       "      <td>657</td>\n",
       "      <td>29.34</td>\n",
       "    </tr>\n",
       "  </tbody>\n",
       "</table>\n",
       "</div>"
      ],
      "text/plain": [
       "                                            Label  Count (1s)  \\\n",
       "0                                   Room Ligiting        2049   \n",
       "1                            Both hands on table?        1753   \n",
       "2  Can able to see student along with full table?        1920   \n",
       "3                        Computer Screen Visible?        1902   \n",
       "4               Final Decision for uploaded Image        1582   \n",
       "\n",
       "   Percentage (1s) (%)  Count (0s)  Percentage (0s) (%)  \n",
       "0                91.51         190                 8.49  \n",
       "1                78.29         486                21.71  \n",
       "2                85.75         319                14.25  \n",
       "3                84.95         337                15.05  \n",
       "4                70.66         657                29.34  "
      ]
     },
     "execution_count": 79,
     "metadata": {},
     "output_type": "execute_result"
    }
   ],
   "source": [
    "val_results_df"
   ]
  },
  {
   "cell_type": "markdown",
   "metadata": {},
   "source": [
    "# Metrics"
   ]
  },
  {
   "cell_type": "code",
   "execution_count": 62,
   "metadata": {
    "execution": {
     "iopub.execute_input": "2025-01-07T22:10:51.548657Z",
     "iopub.status.busy": "2025-01-07T22:10:51.548338Z",
     "iopub.status.idle": "2025-01-07T22:10:51.553666Z",
     "shell.execute_reply": "2025-01-07T22:10:51.552349Z",
     "shell.execute_reply.started": "2025-01-07T22:10:51.548632Z"
    },
    "trusted": true
   },
   "outputs": [],
   "source": [
    "def compute_metrics(y_true, y_pred):\n",
    "    \"\"\"\n",
    "    Computes accuracy, recall, precision, and F1 score.\n",
    "    Args:\n",
    "        y_true (torch.Tensor): True labels.\n",
    "        y_pred (torch.Tensor): Predicted probabilities or logits.\n",
    "    Returns:\n",
    "        dict: Dictionary containing the metrics.\n",
    "    \"\"\"\n",
    "    # Convert probabilities to binary predictions (0 or 1)\n",
    "    y_pred_binary = (y_pred > 0.5).int()\n",
    "    \n",
    "    # Compute metrics\n",
    "    accuracy = accuracy_score(y_true, y_pred_binary)\n",
    "    recall = recall_score(y_true, y_pred_binary)\n",
    "    precision = precision_score(y_true, y_pred_binary)\n",
    "    f1 = f1_score(y_true, y_pred_binary)\n",
    "    \n",
    "    return {\n",
    "        \"accuracy\": accuracy,\n",
    "        \"recall\": recall,\n",
    "        \"precision\": precision,\n",
    "        \"f1\": f1,\n",
    "    }\n"
   ]
  },
  {
   "cell_type": "markdown",
   "metadata": {},
   "source": [
    "#  Model Training"
   ]
  },
  {
   "cell_type": "code",
   "execution_count": 63,
   "metadata": {
    "execution": {
     "iopub.execute_input": "2025-01-07T22:10:55.773184Z",
     "iopub.status.busy": "2025-01-07T22:10:55.772774Z",
     "iopub.status.idle": "2025-01-07T22:10:56.234015Z",
     "shell.execute_reply": "2025-01-07T22:10:56.233270Z",
     "shell.execute_reply.started": "2025-01-07T22:10:55.773151Z"
    },
    "trusted": true
   },
   "outputs": [],
   "source": [
    "class CustomCNN(nn.Module):\n",
    "    def __init__(self, output_features):\n",
    "        super(CustomCNN, self).__init__()\n",
    "        self.conv_layers = nn.Sequential(\n",
    "            nn.Conv2d(3, 32, kernel_size=3, stride=1, padding=1),  # (32, 240, 240)\n",
    "            nn.ReLU(),\n",
    "            nn.MaxPool2d(kernel_size=2, stride=2),  # (32, 120, 120)\n",
    "\n",
    "            nn.Conv2d(32, 64, kernel_size=3, stride=1, padding=1),  # (64, 120, 120)\n",
    "            nn.ReLU(),\n",
    "            nn.MaxPool2d(kernel_size=2, stride=2),  # (64, 60, 60)\n",
    "\n",
    "            nn.Conv2d(64, 128, kernel_size=3, stride=1, padding=1),  # (128, 60, 60)\n",
    "            # nn.Conv2d(32, 128, kernel_size=3, stride=1, padding=1),  # (128, 60, 60)\n",
    "            nn.ReLU(),\n",
    "            nn.MaxPool2d(kernel_size=2, stride=2)  # (128, 30, 30)\n",
    "        )\n",
    "        self.fc = nn.Sequential(\n",
    "            nn.Flatten(),\n",
    "            nn.Linear(128 * 30 * 30, output_features),  # Match flattened size\n",
    "            # nn.Linear(128 * 60 * 60, output_features), \n",
    "            nn.ReLU()\n",
    "        )\n",
    "\n",
    "    def forward(self, x):\n",
    "        x = self.conv_layers(x)\n",
    "        # print(\"After conv_layers:\", x.shape)  # Check shape here\n",
    "        x = self.fc(x)\n",
    "        # print(\"After fc:\", x.shape)           # Check shape here\n",
    "        return x\n",
    "\n",
    "\n",
    "# Base Model with Custom CNN\n",
    "class BaseModel(nn.Module):\n",
    "    def __init__(self):\n",
    "        super(BaseModel, self).__init__()\n",
    "        self.backbone = CustomCNN(output_features=128)  # Extract 128 features\n",
    "        self.classifier = nn.Linear(128, 1)  # Single output for binary classification\n",
    "\n",
    "    def forward(self, x):\n",
    "        features = self.backbone(x)\n",
    "        return torch.sigmoid(self.classifier(features))  # Output probability for each class\n",
    "\n",
    "# Initialize base models with Custom CNN\n",
    "device = 'cuda' if torch.cuda.is_available() else 'cpu'\n",
    "base_models = [BaseModel().to(device) for _ in range(4)]\n",
    "\n",
    "# Meta Model with Custom CNN\n",
    "class MetaModel(nn.Module):\n",
    "    def __init__(self):\n",
    "        super(MetaModel, self).__init__()\n",
    "        # Convolutional backbone for the image input\n",
    "        self.image_backbone = CustomCNN(output_features=128)  # Extract 128 features\n",
    "        \n",
    "        # Fully connected layers to combine image features and base model outputs\n",
    "        self.fc = nn.Sequential(\n",
    "            nn.Linear(128 + 4, 64),  # 128 (image features) + 4 (base model outputs)\n",
    "            nn.ReLU(),\n",
    "            nn.Linear(64, 1)  # Output: Final decision\n",
    "        )\n",
    "\n",
    "    def forward(self, image, base_outputs):\n",
    "        # Extract features from the image\n",
    "        image_features = self.image_backbone(image)  # Shape: [batch_size, 128]\n",
    "        \n",
    "        # Concatenate image features and base model outputs\n",
    "        combined = torch.cat([image_features, base_outputs], dim=1)  # Shape: [batch_size, 128 + 4]\n",
    "        \n",
    "        # Predict final decision\n",
    "        return torch.sigmoid(self.fc(combined))  # Output probability\n"
   ]
  },
  {
   "cell_type": "markdown",
   "metadata": {},
   "source": [
    "## Feature(Base) Model Training-validation"
   ]
  },
  {
   "cell_type": "code",
   "execution_count": 64,
   "metadata": {
    "execution": {
     "iopub.execute_input": "2025-01-07T22:11:01.984628Z",
     "iopub.status.busy": "2025-01-07T22:11:01.984313Z",
     "iopub.status.idle": "2025-01-07T22:11:01.998357Z",
     "shell.execute_reply": "2025-01-07T22:11:01.997461Z",
     "shell.execute_reply.started": "2025-01-07T22:11:01.984603Z"
    },
    "trusted": true
   },
   "outputs": [],
   "source": [
    "def train_and_evaluate(base_models, train_loader, val_loader, device, epochs=5, lr=0.001, patience=3):\n",
    "    \"\"\"\n",
    "    Trains base models and evaluates metrics, including metrics before training (epoch 0).\n",
    "    Supports early stopping and saves the 4 best models based on validation metrics.\n",
    "\n",
    "    Args:\n",
    "        base_models (list): List of models to train and evaluate.\n",
    "        train_loader (DataLoader): DataLoader for training data.\n",
    "        val_loader (DataLoader): DataLoader for validation data.\n",
    "        device (str): 'cuda' or 'cpu'.\n",
    "        epochs (int): Number of epochs to train.\n",
    "        lr (float): Learning rate for the optimizer.\n",
    "        patience (int): Number of epochs to wait for improvement before early stopping.\n",
    "\n",
    "    Returns:\n",
    "        list: A list containing dictionaries with loss and metrics for each model.\n",
    "    \"\"\"\n",
    "    criterion = nn.BCELoss()  # Binary Cross-Entropy Loss\n",
    "    results = []  # To store results for each model\n",
    "\n",
    "    for i, base_model in enumerate(base_models):\n",
    "        optimizer = torch.optim.Adam(base_model.parameters(), lr=lr)\n",
    "        model_results = {\"train_loss\": [], \"val_loss\": [], \"metrics\": []}  # To store epoch-wise results\n",
    "\n",
    "        # Early stopping setup\n",
    "        best_metric = float('-inf')  # Initialize the best metric\n",
    "        no_improvement_epochs = 0   # Count epochs without improvement\n",
    "        best_model_path = f\"best_model_{i+1}.pth\"  # Path to save the best model\n",
    "\n",
    "        # Evaluate metrics for epoch 0 (before training starts)\n",
    "        print(f\"Base Model {i+1}: Evaluating metrics for Epoch 0 (Before Training)\")\n",
    "        base_model.eval()\n",
    "        all_labels, all_predictions = [], []\n",
    "        val_loss = 0.0\n",
    "        model_results[\"train_loss\"].append(None)  # No training loss for epoch 0\n",
    "        with torch.no_grad():\n",
    "            for images, attribute_labels, _ in tqdm(val_loader, desc=\"Validation (Epoch 0)\", leave=False):\n",
    "                images, attribute_labels = images.to(device), attribute_labels.to(device)\n",
    "                labels = attribute_labels[:, i:i+1]\n",
    "                outputs = base_model(images)\n",
    "\n",
    "                loss = criterion(outputs, labels)\n",
    "                val_loss += loss.item()\n",
    "\n",
    "                all_labels.append(labels.cpu())\n",
    "                all_predictions.append(outputs.cpu())\n",
    "\n",
    "        # Concatenate and compute metrics for epoch 0\n",
    "        all_labels = torch.cat(all_labels)\n",
    "        all_predictions = torch.cat(all_predictions)\n",
    "        metrics = compute_metrics(all_labels, all_predictions)\n",
    "        val_loss /= len(val_loader)\n",
    "        model_results[\"val_loss\"].append(val_loss)\n",
    "        model_results[\"metrics\"].append(metrics)\n",
    "        print(f\"Base Model {i+1}, Epoch 0: Val Loss: {val_loss:.4f}, Metrics: {metrics}\")\n",
    "\n",
    "        # Training and validation loop\n",
    "        for epoch in range(epochs):\n",
    "            # Training\n",
    "            base_model.train()\n",
    "            running_loss = 0.0\n",
    "            train_loader_tqdm = tqdm(train_loader, desc=f\"Training Model {i+1}, Epoch {epoch+1}/{epochs}\", leave=False)\n",
    "            for images, attribute_labels, _ in train_loader_tqdm:\n",
    "                images, attribute_labels = images.to(device), attribute_labels.to(device)\n",
    "                labels = attribute_labels[:, i:i+1]  # Select the i-th attribute column\n",
    "\n",
    "                optimizer.zero_grad()\n",
    "                outputs = base_model(images)\n",
    "                loss = criterion(outputs, labels)\n",
    "                loss.backward()\n",
    "                optimizer.step()\n",
    "                running_loss += loss.item()\n",
    "\n",
    "                # Update tqdm bar with loss\n",
    "                train_loader_tqdm.set_postfix(loss=loss.item())\n",
    "\n",
    "            avg_loss = running_loss / len(train_loader)\n",
    "            model_results[\"train_loss\"].append(avg_loss)\n",
    "\n",
    "            # Validation\n",
    "            base_model.eval()\n",
    "            all_labels, all_predictions = [], []\n",
    "            val_loss = 0.0  # Reset validation loss for this epoch\n",
    "            val_loader_tqdm = tqdm(val_loader, desc=f\"Validation Model {i+1}, Epoch {epoch+1}/{epochs}\", leave=False)\n",
    "            with torch.no_grad():\n",
    "                for images, attribute_labels, _ in val_loader_tqdm:\n",
    "                    images, attribute_labels = images.to(device), attribute_labels.to(device)\n",
    "                    labels = attribute_labels[:, i:i+1]\n",
    "                    outputs = base_model(images)\n",
    "\n",
    "                    loss = criterion(outputs, labels)\n",
    "                    val_loss += loss.item()\n",
    "\n",
    "                    all_labels.append(labels.cpu())\n",
    "                    all_predictions.append(outputs.cpu())\n",
    "\n",
    "            # Concatenate and compute metrics\n",
    "            val_loss /= len(val_loader)\n",
    "            all_labels = torch.cat(all_labels)\n",
    "            all_predictions = torch.cat(all_predictions)\n",
    "            metrics = compute_metrics(all_labels, all_predictions)\n",
    "            model_results[\"val_loss\"].append(val_loss)\n",
    "            model_results[\"metrics\"].append(metrics)\n",
    "\n",
    "            # Print progress\n",
    "            print(f\"Base Model {i+1}, Epoch {epoch+1}: Loss: {avg_loss:.4f}, Val Loss: {val_loss:.4f}, Metrics: {metrics}\")\n",
    "\n",
    "            # Check for improvement and save the best model\n",
    "            current_metric = metrics[\"f1\"]  # Example: use F1 score as the primary metric\n",
    "            if current_metric > best_metric:\n",
    "                best_metric = current_metric\n",
    "                no_improvement_epochs = 0\n",
    "                torch.save(base_model, best_model_path)\n",
    "                print(f\"Base Model {i+1}, Epoch {epoch+1}: New best model saved with F1 score {best_metric:.4f}\")\n",
    "            else:\n",
    "                no_improvement_epochs += 1\n",
    "                print(f\"Base Model {i+1}, Epoch {epoch+1}: No improvement for {no_improvement_epochs} epoch(s)\")\n",
    "\n",
    "            # Early stopping\n",
    "            if no_improvement_epochs >= patience:\n",
    "                print(f\"Base Model {i+1}: Early stopping triggered at epoch {epoch+1}\")\n",
    "                break\n",
    "\n",
    "        results.append(model_results)\n",
    "\n",
    "    return results\n"
   ]
  },
  {
   "cell_type": "code",
   "execution_count": 65,
   "metadata": {
    "execution": {
     "iopub.execute_input": "2025-01-07T22:11:08.564172Z",
     "iopub.status.busy": "2025-01-07T22:11:08.563783Z",
     "iopub.status.idle": "2025-01-07T22:11:08.572159Z",
     "shell.execute_reply": "2025-01-07T22:11:08.571168Z",
     "shell.execute_reply.started": "2025-01-07T22:11:08.564140Z"
    },
    "trusted": true
   },
   "outputs": [],
   "source": [
    "def plot_all_models(results):\n",
    "    \"\"\"\n",
    "    Plots training loss, validation loss, and metrics for all models, including epoch 0.\n",
    "\n",
    "    Args:\n",
    "        results (list): List of dictionaries containing loss, val_loss, and metrics for each model.\n",
    "    \"\"\"\n",
    "    for i, model_results in enumerate(results):\n",
    "        epochs = len(model_results[\"train_loss\"])   # Including epoch 0\n",
    "        epoch_range = range(0, epochs)  # From epoch 0 to last epoch\n",
    "\n",
    "        # Extract losses and metrics\n",
    "        losses =  model_results[\"train_loss\"]  # No training loss for epoch 0\n",
    "        val_losses = model_results[\"val_loss\"]\n",
    "        accuracies = [m[\"accuracy\"] for m in model_results[\"metrics\"]]\n",
    "        recalls = [m[\"recall\"] for m in model_results[\"metrics\"]]\n",
    "        precisions = [m[\"precision\"] for m in model_results[\"metrics\"]]\n",
    "        f1_scores = [m[\"f1\"] for m in model_results[\"metrics\"]]\n",
    "\n",
    "        # Create subplots\n",
    "        plt.figure(figsize=(15, 5))\n",
    "\n",
    "        # Plot Loss\n",
    "        plt.subplot(1, 2, 1)\n",
    "        plt.plot(epoch_range, losses, label=\"Training Loss\", color=\"blue\", marker=\"o\")\n",
    "        plt.plot(epoch_range, val_losses, label=\"Validation Loss\", color=\"orange\", marker=\"s\")\n",
    "        plt.title(f\"Model {i+1}: Loss\")\n",
    "        plt.xlabel(\"Epoch\")\n",
    "        plt.ylabel(\"Loss\")\n",
    "        plt.grid(True)\n",
    "        plt.legend()\n",
    "\n",
    "        # Plot Metrics\n",
    "        plt.subplot(1, 2, 2)\n",
    "        plt.plot(epoch_range, accuracies, label=\"Accuracy\", marker=\"o\")\n",
    "        plt.plot(epoch_range, recalls, label=\"Recall\", marker=\"s\")\n",
    "        plt.plot(epoch_range, precisions, label=\"Precision\", marker=\"^\")\n",
    "        plt.plot(epoch_range, f1_scores, label=\"F1 Score\", marker=\"d\")\n",
    "        plt.title(f\"Model {i+1}: Validation Metrics\")\n",
    "        plt.xlabel(\"Epoch\")\n",
    "        plt.ylabel(\"Score\")\n",
    "        plt.grid(True)\n",
    "        plt.legend()\n",
    "\n",
    "        # Display the plots\n",
    "        plt.tight_layout()\n",
    "        plt.show()"
   ]
  },
  {
   "cell_type": "code",
   "execution_count": 67,
   "metadata": {
    "execution": {
     "iopub.execute_input": "2025-01-07T22:11:24.308553Z",
     "iopub.status.busy": "2025-01-07T22:11:24.308225Z",
     "iopub.status.idle": "2025-01-07T22:27:53.776922Z",
     "shell.execute_reply": "2025-01-07T22:27:53.775978Z",
     "shell.execute_reply.started": "2025-01-07T22:11:24.308526Z"
    },
    "trusted": true
   },
   "outputs": [
    {
     "name": "stdout",
     "output_type": "stream",
     "text": [
      "Base Model 1: Evaluating metrics for Epoch 0 (Before Training)\n"
     ]
    },
    {
     "name": "stderr",
     "output_type": "stream",
     "text": [
      "/usr/local/lib/python3.10/dist-packages/sklearn/metrics/_classification.py:1344: UndefinedMetricWarning: Precision is ill-defined and being set to 0.0 due to no predicted samples. Use `zero_division` parameter to control this behavior.\n",
      "  _warn_prf(average, modifier, msg_start, len(result))\n"
     ]
    },
    {
     "name": "stdout",
     "output_type": "stream",
     "text": [
      "Base Model 1, Epoch 0: Val Loss: 0.7340, Metrics: {'accuracy': 0.08485931219294328, 'recall': 0.0, 'precision': 0.0, 'f1': 0.0}\n"
     ]
    },
    {
     "name": "stderr",
     "output_type": "stream",
     "text": [
      "                                                                                          \r"
     ]
    },
    {
     "name": "stdout",
     "output_type": "stream",
     "text": [
      "Base Model 1, Epoch 1: Loss: 8.5276, Val Loss: 8.4865, Metrics: {'accuracy': 0.9151406878070567, 'recall': 1.0, 'precision': 0.9151406878070567, 'f1': 0.9556902985074627}\n",
      "Base Model 1, Epoch 1: New best model saved with F1 score 0.9557\n"
     ]
    },
    {
     "name": "stderr",
     "output_type": "stream",
     "text": [
      "                                                                                          \r"
     ]
    },
    {
     "name": "stdout",
     "output_type": "stream",
     "text": [
      "Base Model 1, Epoch 2: Loss: 8.5299, Val Loss: 8.4865, Metrics: {'accuracy': 0.9151406878070567, 'recall': 1.0, 'precision': 0.9151406878070567, 'f1': 0.9556902985074627}\n",
      "Base Model 1, Epoch 2: No improvement for 1 epoch(s)\n"
     ]
    },
    {
     "name": "stderr",
     "output_type": "stream",
     "text": [
      "                                                                                          \r"
     ]
    },
    {
     "name": "stdout",
     "output_type": "stream",
     "text": [
      "Base Model 1, Epoch 3: Loss: 8.5362, Val Loss: 8.4865, Metrics: {'accuracy': 0.9151406878070567, 'recall': 1.0, 'precision': 0.9151406878070567, 'f1': 0.9556902985074627}\n",
      "Base Model 1, Epoch 3: No improvement for 2 epoch(s)\n"
     ]
    },
    {
     "name": "stderr",
     "output_type": "stream",
     "text": [
      "                                                                                          \r"
     ]
    },
    {
     "name": "stdout",
     "output_type": "stream",
     "text": [
      "Base Model 1, Epoch 4: Loss: 8.5393, Val Loss: 8.4865, Metrics: {'accuracy': 0.9151406878070567, 'recall': 1.0, 'precision': 0.9151406878070567, 'f1': 0.9556902985074627}\n",
      "Base Model 1, Epoch 4: No improvement for 3 epoch(s)\n",
      "Base Model 1: Early stopping triggered at epoch 4\n",
      "Base Model 2: Evaluating metrics for Epoch 0 (Before Training)\n"
     ]
    },
    {
     "name": "stderr",
     "output_type": "stream",
     "text": [
      "                                                                     \r"
     ]
    },
    {
     "name": "stdout",
     "output_type": "stream",
     "text": [
      "Base Model 2, Epoch 0: Val Loss: 0.6624, Metrics: {'accuracy': 0.7829388119696293, 'recall': 1.0, 'precision': 0.7829388119696293, 'f1': 0.8782565130260521}\n"
     ]
    },
    {
     "name": "stderr",
     "output_type": "stream",
     "text": [
      "                                                                                          \r"
     ]
    },
    {
     "name": "stdout",
     "output_type": "stream",
     "text": [
      "Base Model 2, Epoch 1: Loss: 20.5313, Val Loss: 21.7065, Metrics: {'accuracy': 0.7829388119696293, 'recall': 1.0, 'precision': 0.7829388119696293, 'f1': 0.8782565130260521}\n",
      "Base Model 2, Epoch 1: New best model saved with F1 score 0.8783\n"
     ]
    },
    {
     "name": "stderr",
     "output_type": "stream",
     "text": [
      "                                                                                          \r"
     ]
    },
    {
     "name": "stdout",
     "output_type": "stream",
     "text": [
      "Base Model 2, Epoch 2: Loss: 20.5531, Val Loss: 21.7065, Metrics: {'accuracy': 0.7829388119696293, 'recall': 1.0, 'precision': 0.7829388119696293, 'f1': 0.8782565130260521}\n",
      "Base Model 2, Epoch 2: No improvement for 1 epoch(s)\n"
     ]
    },
    {
     "name": "stderr",
     "output_type": "stream",
     "text": [
      "                                                                                          \r"
     ]
    },
    {
     "name": "stdout",
     "output_type": "stream",
     "text": [
      "Base Model 2, Epoch 3: Loss: 20.5688, Val Loss: 21.7065, Metrics: {'accuracy': 0.7829388119696293, 'recall': 1.0, 'precision': 0.7829388119696293, 'f1': 0.8782565130260521}\n",
      "Base Model 2, Epoch 3: No improvement for 2 epoch(s)\n"
     ]
    },
    {
     "name": "stderr",
     "output_type": "stream",
     "text": [
      "                                                                                          \r"
     ]
    },
    {
     "name": "stdout",
     "output_type": "stream",
     "text": [
      "Base Model 2, Epoch 4: Loss: 20.5688, Val Loss: 21.7065, Metrics: {'accuracy': 0.7829388119696293, 'recall': 1.0, 'precision': 0.7829388119696293, 'f1': 0.8782565130260521}\n",
      "Base Model 2, Epoch 4: No improvement for 3 epoch(s)\n",
      "Base Model 2: Early stopping triggered at epoch 4\n",
      "Base Model 3: Evaluating metrics for Epoch 0 (Before Training)\n"
     ]
    },
    {
     "name": "stderr",
     "output_type": "stream",
     "text": [
      "                                                                     \r"
     ]
    },
    {
     "name": "stdout",
     "output_type": "stream",
     "text": [
      "Base Model 3, Epoch 0: Val Loss: 0.6993, Metrics: {'accuracy': 0.22599374720857526, 'recall': 0.15364583333333334, 'precision': 0.7320099255583127, 'f1': 0.25398191993112357}\n"
     ]
    },
    {
     "name": "stderr",
     "output_type": "stream",
     "text": [
      "                                                                                          \r"
     ]
    },
    {
     "name": "stdout",
     "output_type": "stream",
     "text": [
      "Base Model 3, Epoch 1: Loss: 13.7699, Val Loss: 14.2454, Metrics: {'accuracy': 0.8575256811076374, 'recall': 1.0, 'precision': 0.8575256811076374, 'f1': 0.9232988699206541}\n",
      "Base Model 3, Epoch 1: New best model saved with F1 score 0.9233\n"
     ]
    },
    {
     "name": "stderr",
     "output_type": "stream",
     "text": [
      "                                                                                          \r"
     ]
    },
    {
     "name": "stdout",
     "output_type": "stream",
     "text": [
      "Base Model 3, Epoch 2: Loss: 13.8263, Val Loss: 14.2454, Metrics: {'accuracy': 0.8575256811076374, 'recall': 1.0, 'precision': 0.8575256811076374, 'f1': 0.9232988699206541}\n",
      "Base Model 3, Epoch 2: No improvement for 1 epoch(s)\n"
     ]
    },
    {
     "name": "stderr",
     "output_type": "stream",
     "text": [
      "                                                                                          \r"
     ]
    },
    {
     "name": "stdout",
     "output_type": "stream",
     "text": [
      "Base Model 3, Epoch 3: Loss: 13.8295, Val Loss: 14.2454, Metrics: {'accuracy': 0.8575256811076374, 'recall': 1.0, 'precision': 0.8575256811076374, 'f1': 0.9232988699206541}\n",
      "Base Model 3, Epoch 3: No improvement for 2 epoch(s)\n"
     ]
    },
    {
     "name": "stderr",
     "output_type": "stream",
     "text": [
      "                                                                                          \r"
     ]
    },
    {
     "name": "stdout",
     "output_type": "stream",
     "text": [
      "Base Model 3, Epoch 4: Loss: 13.8263, Val Loss: 14.2454, Metrics: {'accuracy': 0.8575256811076374, 'recall': 1.0, 'precision': 0.8575256811076374, 'f1': 0.9232988699206541}\n",
      "Base Model 3, Epoch 4: No improvement for 3 epoch(s)\n",
      "Base Model 3: Early stopping triggered at epoch 4\n",
      "Base Model 4: Evaluating metrics for Epoch 0 (Before Training)\n"
     ]
    },
    {
     "name": "stderr",
     "output_type": "stream",
     "text": [
      "                                                                     \r"
     ]
    },
    {
     "name": "stdout",
     "output_type": "stream",
     "text": [
      "Base Model 4, Epoch 0: Val Loss: 0.6934, Metrics: {'accuracy': 0.4899508709245199, 'recall': 0.5042060988433228, 'precision': 0.8281519861830743, 'f1': 0.626797385620915}\n"
     ]
    },
    {
     "name": "stderr",
     "output_type": "stream",
     "text": [
      "                                                                                            \r"
     ]
    },
    {
     "name": "stdout",
     "output_type": "stream",
     "text": [
      "Base Model 4, Epoch 1: Loss: 0.4622, Val Loss: 0.3528, Metrics: {'accuracy': 0.880303707012059, 'recall': 0.9978969505783386, 'precision': 0.877890841813136, 'f1': 0.9340551181102363}\n",
      "Base Model 4, Epoch 1: New best model saved with F1 score 0.9341\n"
     ]
    },
    {
     "name": "stderr",
     "output_type": "stream",
     "text": [
      "                                                                                           \r"
     ]
    },
    {
     "name": "stdout",
     "output_type": "stream",
     "text": [
      "Base Model 4, Epoch 2: Loss: 0.3467, Val Loss: 0.3492, Metrics: {'accuracy': 0.884323358642251, 'recall': 0.991062039957939, 'precision': 0.8862247296661965, 'f1': 0.9357160585753288}\n",
      "Base Model 4, Epoch 2: New best model saved with F1 score 0.9357\n"
     ]
    },
    {
     "name": "stderr",
     "output_type": "stream",
     "text": [
      "                                                                                            \r"
     ]
    },
    {
     "name": "stdout",
     "output_type": "stream",
     "text": [
      "Base Model 4, Epoch 3: Loss: 0.3176, Val Loss: 0.3621, Metrics: {'accuracy': 0.8865564984368022, 'recall': 0.9873817034700315, 'precision': 0.8908918406072106, 'f1': 0.9366583541147133}\n",
      "Base Model 4, Epoch 3: New best model saved with F1 score 0.9367\n"
     ]
    },
    {
     "name": "stderr",
     "output_type": "stream",
     "text": [
      "                                                                                            \r"
     ]
    },
    {
     "name": "stdout",
     "output_type": "stream",
     "text": [
      "Base Model 4, Epoch 4: Loss: 0.2780, Val Loss: 0.3805, Metrics: {'accuracy': 0.8838767306833408, 'recall': 0.9852786540483701, 'precision': 0.8898385565052231, 'f1': 0.935129740518962}\n",
      "Base Model 4, Epoch 4: No improvement for 1 epoch(s)\n"
     ]
    },
    {
     "name": "stderr",
     "output_type": "stream",
     "text": [
      "                                                                                            \r"
     ]
    },
    {
     "name": "stdout",
     "output_type": "stream",
     "text": [
      "Base Model 4, Epoch 5: Loss: 0.2188, Val Loss: 0.4069, Metrics: {'accuracy': 0.864671728450201, 'recall': 0.9511041009463722, 'precision': 0.8959881129271917, 'f1': 0.9227237949502678}\n",
      "Base Model 4, Epoch 5: No improvement for 2 epoch(s)\n"
     ]
    },
    {
     "name": "stderr",
     "output_type": "stream",
     "text": [
      "                                                                                            "
     ]
    },
    {
     "name": "stdout",
     "output_type": "stream",
     "text": [
      "Base Model 4, Epoch 6: Loss: 0.1400, Val Loss: 0.5353, Metrics: {'accuracy': 0.8709245198749441, 'recall': 0.9616193480546793, 'precision': 0.8943765281173595, 'f1': 0.9267798327843932}\n",
      "Base Model 4, Epoch 6: No improvement for 3 epoch(s)\n",
      "Base Model 4: Early stopping triggered at epoch 6\n"
     ]
    },
    {
     "name": "stderr",
     "output_type": "stream",
     "text": [
      "\r"
     ]
    }
   ],
   "source": [
    "results = train_and_evaluate(\n",
    "    base_models=base_models,\n",
    "    train_loader=train_loader,\n",
    "    val_loader=val_loader,\n",
    "    device=device,\n",
    "    epochs=10,\n",
    "    lr=0.001\n",
    ")\n"
   ]
  },
  {
   "cell_type": "code",
   "execution_count": 55,
   "metadata": {
    "execution": {
     "iopub.execute_input": "2025-01-07T22:08:32.110341Z",
     "iopub.status.busy": "2025-01-07T22:08:32.109975Z",
     "iopub.status.idle": "2025-01-07T22:08:32.114067Z",
     "shell.execute_reply": "2025-01-07T22:08:32.113087Z",
     "shell.execute_reply.started": "2025-01-07T22:08:32.110312Z"
    },
    "trusted": true
   },
   "outputs": [],
   "source": [
    "# results"
   ]
  },
  {
   "cell_type": "code",
   "execution_count": 68,
   "metadata": {
    "execution": {
     "iopub.execute_input": "2025-01-07T22:28:02.729350Z",
     "iopub.status.busy": "2025-01-07T22:28:02.728838Z",
     "iopub.status.idle": "2025-01-07T22:28:05.399616Z",
     "shell.execute_reply": "2025-01-07T22:28:05.398590Z",
     "shell.execute_reply.started": "2025-01-07T22:28:02.729313Z"
    },
    "trusted": true
   },
   "outputs": [
    {
     "data": {
      "image/png": "[encoded data removed]",
      "text/plain": [
       "<Figure size 1500x500 with 2 Axes>"
      ]
     },
     "metadata": {},
     "output_type": "display_data"
    },
    {
     "data": {
      "image/png": "[encoded data removed]",
      "text/plain": [
       "<Figure size 1500x500 with 2 Axes>"
      ]
     },
     "metadata": {},
     "output_type": "display_data"
    },
    {
     "data": {
      "image/png": "[encoded data removed]",
      "text/plain": [
       "<Figure size 1500x500 with 2 Axes>"
      ]
     },
     "metadata": {},
     "output_type": "display_data"
    },
    {
     "data": {
      "image/png": "[encoded data removed]",
      "text/plain": [
       "<Figure size 1500x500 with 2 Axes>"
      ]
     },
     "metadata": {},
     "output_type": "display_data"
    }
   ],
   "source": [
    "plot_all_models(results)\n"
   ]
  },
  {
   "cell_type": "markdown",
   "metadata": {},
   "source": [
    "## Preparing Dataset For Meta-Model"
   ]
  },
  {
   "cell_type": "code",
   "execution_count": 80,
   "metadata": {
    "execution": {
     "iopub.execute_input": "2025-01-07T22:35:17.104481Z",
     "iopub.status.busy": "2025-01-07T22:35:17.104162Z",
     "iopub.status.idle": "2025-01-07T22:35:17.110678Z",
     "shell.execute_reply": "2025-01-07T22:35:17.109721Z",
     "shell.execute_reply.started": "2025-01-07T22:35:17.104455Z"
    },
    "trusted": true
   },
   "outputs": [],
   "source": [
    "def collect_base_outputs(base_models, loader, device='cuda'):\n",
    "    meta_inputs = []\n",
    "    meta_labels = []\n",
    "    all_images = []  # Store images for later use\n",
    "\n",
    "    for batch_idx, (images, attribute_labels, final_labels) in enumerate(loader):\n",
    "        \n",
    "        if((batch_idx+1)%20==0):\n",
    "            print(f\"Processing batch {batch_idx + 1}/{len(loader)}\")\n",
    "        \n",
    "        # Move labels to GPU (images will be processed per model)\n",
    "        final_labels = final_labels.to(device)\n",
    "        all_images.append(images.cpu())  # Keep images on CPU for now\n",
    "        \n",
    "        # Collect outputs for all base models\n",
    "        base_outputs = []\n",
    "        for model_idx, model in enumerate(base_models):\n",
    "            model = model.to(device)  # Ensure the model is on the device\n",
    "            \n",
    "            # Process images batch for this model\n",
    "            with torch.no_grad():\n",
    "                outputs = model(images.to(device)).detach().cpu()  # Compute and move to CPU\n",
    "                base_outputs.append(outputs)\n",
    "                # print(f\"Base model {model_idx + 1} outputs collected.\")\n",
    "        \n",
    "        # Concatenate outputs for all base models\n",
    "        base_outputs = torch.cat(base_outputs, dim=1)  # Concatenate all base outputs\n",
    "        meta_inputs.append(base_outputs)  # Store only base outputs\n",
    "        meta_labels.append(final_labels.cpu())  # Move labels to CPU\n",
    "        \n",
    "        # # Clean up GPU memory after processing all models for the current batch\n",
    "        # del images, attribute_labels, final_labels, outputs, base_outputs\n",
    "        # torch.cuda.empty_cache()\n",
    "    \n",
    "    # Return the collected meta inputs, labels, and images\n",
    "    return torch.cat(meta_inputs), torch.cat(meta_labels), torch.cat(all_images)\n"
   ]
  },
  {
   "cell_type": "code",
   "execution_count": 70,
   "metadata": {
    "execution": {
     "iopub.execute_input": "2025-01-07T22:28:48.714991Z",
     "iopub.status.busy": "2025-01-07T22:28:48.714611Z",
     "iopub.status.idle": "2025-01-07T22:29:42.799759Z",
     "shell.execute_reply": "2025-01-07T22:29:42.798722Z",
     "shell.execute_reply.started": "2025-01-07T22:28:48.714951Z"
    },
    "trusted": true
   },
   "outputs": [
    {
     "name": "stdout",
     "output_type": "stream",
     "text": [
      "Processing batch 20/280\n",
      "Processing batch 40/280\n",
      "Processing batch 60/280\n",
      "Processing batch 80/280\n",
      "Processing batch 100/280\n",
      "Processing batch 120/280\n",
      "Processing batch 140/280\n",
      "Processing batch 160/280\n",
      "Processing batch 180/280\n",
      "Processing batch 200/280\n",
      "Processing batch 220/280\n",
      "Processing batch 240/280\n",
      "Processing batch 260/280\n",
      "Processing batch 280/280\n"
     ]
    }
   ],
   "source": [
    "\n",
    "# Prepare meta-model training data\n",
    "meta_inputs, meta_labels, images = collect_base_outputs(base_models, train_loader)\n",
    "\n",
    "# Create a dataset with images, meta_inputs, and labels\n",
    "meta_dataset = TensorDataset(images, meta_inputs, meta_labels)\n",
    "\n",
    "# Use DataLoader with a smaller batch size\n",
    "meta_loader = DataLoader(meta_dataset, batch_size=32, shuffle=True)\n"
   ]
  },
  {
   "cell_type": "code",
   "execution_count": 71,
   "metadata": {
    "execution": {
     "iopub.execute_input": "2025-01-07T22:29:47.135470Z",
     "iopub.status.busy": "2025-01-07T22:29:47.135140Z",
     "iopub.status.idle": "2025-01-07T22:30:00.655560Z",
     "shell.execute_reply": "2025-01-07T22:30:00.654749Z",
     "shell.execute_reply.started": "2025-01-07T22:29:47.135443Z"
    },
    "trusted": true
   },
   "outputs": [
    {
     "name": "stdout",
     "output_type": "stream",
     "text": [
      "Processing batch 20/70\n",
      "Processing batch 40/70\n",
      "Processing batch 60/70\n"
     ]
    }
   ],
   "source": [
    "# Prepare meta-model training data\n",
    "meta_inputs, meta_labels, images = collect_base_outputs(base_models, val_loader)\n",
    "\n",
    "# Create a dataset with images, meta_inputs, and labels\n",
    "meta_val_dataset = TensorDataset(images, meta_inputs, meta_labels)\n",
    "\n",
    "# Use DataLoader with a smaller batch size\n",
    "meta_val_loader = DataLoader(meta_dataset, batch_size=32, shuffle=True)"
   ]
  },
  {
   "cell_type": "markdown",
   "metadata": {},
   "source": [
    "## Evaluating Simple (if-else )meta Model without any Backbone"
   ]
  },
  {
   "cell_type": "code",
   "execution_count": 81,
   "metadata": {
    "execution": {
     "iopub.execute_input": "2025-01-07T22:35:26.716822Z",
     "iopub.status.busy": "2025-01-07T22:35:26.716510Z",
     "iopub.status.idle": "2025-01-07T22:35:26.723147Z",
     "shell.execute_reply": "2025-01-07T22:35:26.722247Z",
     "shell.execute_reply.started": "2025-01-07T22:35:26.716797Z"
    },
    "trusted": true
   },
   "outputs": [],
   "source": [
    "def evaluate_simple_meta_model(meta_loader, meta_val_loader, device):\n",
    "    \"\"\"\n",
    "    Evaluate a simple meta-model that predicts 1 if all base model outputs are 1, else 0.\n",
    "\n",
    "    Args:\n",
    "        meta_loader: DataLoader providing base model outputs and ground truth labels for training data.\n",
    "        meta_val_loader: DataLoader providing base model outputs and ground truth labels for validation data.\n",
    "        device: Device to use for computation (e.g., 'cuda' or 'cpu').\n",
    "\n",
    "    Returns:\n",
    "        results: A dictionary containing metrics for training and validation data.\n",
    "    \"\"\"\n",
    "    def compute_predictions_and_metrics(loader, phase):\n",
    "        all_labels = []\n",
    "        all_predictions = []\n",
    "        loader_tqdm = tqdm(loader, desc=f\"Evaluating {phase} Data\", leave=False)\n",
    "\n",
    "        with torch.no_grad():\n",
    "            for _, base_outputs, labels in loader_tqdm:\n",
    "                # Move base_outputs and labels to the appropriate device\n",
    "                base_outputs, labels = base_outputs.to(device), labels.to(device)\n",
    "\n",
    "                # Predict 1 if all base outputs are 1, else 0\n",
    "                predictions = (base_outputs.prod(dim=1) == 1).float()\n",
    "\n",
    "                # Collect labels and predictions\n",
    "                all_labels.append(labels.cpu())\n",
    "                all_predictions.append(predictions.cpu())\n",
    "\n",
    "        # Concatenate all labels and predictions\n",
    "        all_labels = torch.cat(all_labels)\n",
    "        all_predictions = torch.cat(all_predictions)\n",
    "\n",
    "        # Compute metrics\n",
    "        metrics = compute_metrics(all_labels, all_predictions)\n",
    "        print(f\"{phase} Metrics: {metrics}\")\n",
    "\n",
    "        return metrics\n",
    "\n",
    "    results = {\n",
    "        \"training_metrics\": compute_predictions_and_metrics(meta_loader, \"Training\"),\n",
    "        \"validation_metrics\": compute_predictions_and_metrics(meta_val_loader, \"Validation\"),\n",
    "    }\n",
    "\n",
    "    return results\n"
   ]
  },
  {
   "cell_type": "code",
   "execution_count": 92,
   "metadata": {
    "execution": {
     "iopub.execute_input": "2025-01-07T23:23:23.936639Z",
     "iopub.status.busy": "2025-01-07T23:23:23.936211Z",
     "iopub.status.idle": "2025-01-07T23:23:25.665758Z",
     "shell.execute_reply": "2025-01-07T23:23:25.664801Z",
     "shell.execute_reply.started": "2025-01-07T23:23:23.936610Z"
    },
    "trusted": true
   },
   "outputs": [
    {
     "name": "stderr",
     "output_type": "stream",
     "text": [
      "                                                                            \r"
     ]
    },
    {
     "name": "stdout",
     "output_type": "stream",
     "text": [
      "Training Metrics: {'accuracy': 0.2859376745225064, 'recall': 0.0023411893241766816, 'precision': 0.9375, 'f1': 0.004670714619336758}\n"
     ]
    },
    {
     "name": "stderr",
     "output_type": "stream",
     "text": [
      "                                                                              "
     ]
    },
    {
     "name": "stdout",
     "output_type": "stream",
     "text": [
      "Validation Metrics: {'accuracy': 0.2859376745225064, 'recall': 0.0023411893241766816, 'precision': 0.9375, 'f1': 0.004670714619336758}\n",
      "Training Metrics: {'accuracy': 0.2859376745225064, 'recall': 0.0023411893241766816, 'precision': 0.9375, 'f1': 0.004670714619336758}\n",
      "Validation Metrics: {'accuracy': 0.2859376745225064, 'recall': 0.0023411893241766816, 'precision': 0.9375, 'f1': 0.004670714619336758}\n"
     ]
    },
    {
     "name": "stderr",
     "output_type": "stream",
     "text": [
      "\r"
     ]
    }
   ],
   "source": [
    "results = evaluate_simple_meta_model(meta_loader, meta_val_loader, device='cuda')\n",
    "\n",
    "print(\"Training Metrics:\", results[\"training_metrics\"])\n",
    "print(\"Validation Metrics:\", results[\"validation_metrics\"])\n"
   ]
  },
  {
   "cell_type": "code",
   "execution_count": 94,
   "metadata": {
    "execution": {
     "iopub.execute_input": "2025-01-07T23:25:49.617739Z",
     "iopub.status.busy": "2025-01-07T23:25:49.617325Z",
     "iopub.status.idle": "2025-01-07T23:25:49.629255Z",
     "shell.execute_reply": "2025-01-07T23:25:49.628254Z",
     "shell.execute_reply.started": "2025-01-07T23:25:49.617705Z"
    },
    "trusted": true
   },
   "outputs": [
    {
     "data": {
      "text/html": [
       "<div>\n",
       "<style scoped>\n",
       "    .dataframe tbody tr th:only-of-type {\n",
       "        vertical-align: middle;\n",
       "    }\n",
       "\n",
       "    .dataframe tbody tr th {\n",
       "        vertical-align: top;\n",
       "    }\n",
       "\n",
       "    .dataframe thead th {\n",
       "        text-align: right;\n",
       "    }\n",
       "</style>\n",
       "<table border=\"1\" class=\"dataframe\">\n",
       "  <thead>\n",
       "    <tr style=\"text-align: right;\">\n",
       "      <th></th>\n",
       "      <th>Metric</th>\n",
       "      <th>Training</th>\n",
       "      <th>Validation</th>\n",
       "    </tr>\n",
       "  </thead>\n",
       "  <tbody>\n",
       "    <tr>\n",
       "      <th>0</th>\n",
       "      <td>accuracy</td>\n",
       "      <td>0.285938</td>\n",
       "      <td>0.285938</td>\n",
       "    </tr>\n",
       "    <tr>\n",
       "      <th>1</th>\n",
       "      <td>recall</td>\n",
       "      <td>0.002341</td>\n",
       "      <td>0.002341</td>\n",
       "    </tr>\n",
       "    <tr>\n",
       "      <th>2</th>\n",
       "      <td>precision</td>\n",
       "      <td>0.937500</td>\n",
       "      <td>0.937500</td>\n",
       "    </tr>\n",
       "    <tr>\n",
       "      <th>3</th>\n",
       "      <td>f1</td>\n",
       "      <td>0.004671</td>\n",
       "      <td>0.004671</td>\n",
       "    </tr>\n",
       "  </tbody>\n",
       "</table>\n",
       "</div>"
      ],
      "text/plain": [
       "      Metric  Training  Validation\n",
       "0   accuracy  0.285938    0.285938\n",
       "1     recall  0.002341    0.002341\n",
       "2  precision  0.937500    0.937500\n",
       "3         f1  0.004671    0.004671"
      ]
     },
     "execution_count": 94,
     "metadata": {},
     "output_type": "execute_result"
    }
   ],
   "source": [
    "# Create DataFrame\n",
    "metrics_df = pd.DataFrame({\n",
    "    'Metric': results[\"training_metrics\"].keys(),\n",
    "    'Training': results[\"training_metrics\"].values(),\n",
    "    'Validation': results[\"validation_metrics\"].values()\n",
    "})\n",
    "\n",
    "metrics_df\n"
   ]
  },
  {
   "cell_type": "markdown",
   "metadata": {},
   "source": [
    "## Training & evaluating meta-model with backbone"
   ]
  },
  {
   "cell_type": "code",
   "execution_count": 89,
   "metadata": {
    "execution": {
     "iopub.execute_input": "2025-01-07T22:40:15.863523Z",
     "iopub.status.busy": "2025-01-07T22:40:15.863199Z",
     "iopub.status.idle": "2025-01-07T22:40:15.877087Z",
     "shell.execute_reply": "2025-01-07T22:40:15.876022Z",
     "shell.execute_reply.started": "2025-01-07T22:40:15.863497Z"
    },
    "trusted": true
   },
   "outputs": [],
   "source": [
    "def train_meta_model(meta_model, meta_loader, meta_val_loader, meta_optimizer, criterion, device, num_epochs=10):\n",
    "    \"\"\"\n",
    "    Train the meta-model and collect metrics for plotting, including 0th epoch metrics.\n",
    "    \n",
    "    Args:\n",
    "        meta_model: The meta-model to train.\n",
    "        meta_loader: DataLoader for training data.\n",
    "        meta_val_loader: DataLoader for validation data.\n",
    "        meta_optimizer: Optimizer for the meta-model.\n",
    "        criterion: Loss function.\n",
    "        device: Device to use for training (e.g., 'cuda' or 'cpu').\n",
    "        num_epochs: Number of epochs to train for.\n",
    "\n",
    "    Returns:\n",
    "        results: A dictionary containing training and validation losses and metrics for each epoch.\n",
    "    \"\"\"\n",
    "    results = {\n",
    "        \"train_loss\": [],\n",
    "        \"val_loss\": [],\n",
    "        \"metrics\": []\n",
    "    }\n",
    "\n",
    "    # 0th epoch validation\n",
    "    meta_model.eval()\n",
    "    all_labels = []\n",
    "    all_predictions = []\n",
    "    val_total_loss = 0\n",
    "\n",
    "    print(f\"Epoch 0 - Initial Validation Phase\")\n",
    "    val_loader_tqdm = tqdm(meta_val_loader, desc=\"Validation Epoch 0\", leave=False)\n",
    "\n",
    "    with torch.no_grad():\n",
    "        for images, base_outputs, labels in val_loader_tqdm:\n",
    "            images, base_outputs, labels = images.to(device), base_outputs.to(device), labels.to(device)\n",
    "            outputs = meta_model(images, base_outputs)  # Pass both images and base_outputs\n",
    "            loss = criterion(outputs.squeeze(-1), labels)\n",
    "            val_total_loss += loss.item()\n",
    "            all_labels.append(labels.cpu())\n",
    "            all_predictions.append(outputs.cpu())\n",
    "\n",
    "    val_avg_loss = val_total_loss / len(meta_val_loader)\n",
    "    all_labels = torch.cat(all_labels)\n",
    "    all_predictions = torch.cat(all_predictions)\n",
    "    metrics = compute_metrics(all_labels, all_predictions)\n",
    "\n",
    "    results[\"train_loss\"].append(None)  # No training loss for epoch 0\n",
    "    results[\"val_loss\"].append(val_avg_loss)\n",
    "    results[\"metrics\"].append(metrics)\n",
    "\n",
    "    print(f\"Meta Model Epoch 0: Initial Validation Loss: {val_avg_loss:.4f}\")\n",
    "    print(f\"Meta Model Epoch 0: Initial Validation Metrics: {metrics}\")\n",
    "    \n",
    "    # Training and validation for subsequent epochs\n",
    "    for epoch in range(1, num_epochs + 1):\n",
    "        # Training phase\n",
    "        meta_model.train()\n",
    "        train_total_loss = 0\n",
    "\n",
    "        print(f\"Epoch {epoch}/{num_epochs} - Training Phase\")\n",
    "        train_loader_tqdm = tqdm(meta_loader, desc=f\"Training Epoch {epoch}/{num_epochs}\", leave=False)\n",
    "\n",
    "        for images, base_outputs, labels in train_loader_tqdm:\n",
    "            images, base_outputs, labels = images.to(device), base_outputs.to(device), labels.to(device)\n",
    "\n",
    "            meta_optimizer.zero_grad()\n",
    "            outputs = meta_model(images, base_outputs).squeeze(-1)  # Pass both images and base_outputs\n",
    "            loss = criterion(outputs, labels)\n",
    "            loss.backward()\n",
    "            meta_optimizer.step()\n",
    "\n",
    "            train_total_loss += loss.item()\n",
    "\n",
    "            # Update tqdm with batch loss\n",
    "            train_loader_tqdm.set_postfix(loss=loss.item())\n",
    "\n",
    "        train_avg_loss = train_total_loss / len(meta_loader)\n",
    "        results[\"train_loss\"].append(train_avg_loss)\n",
    "        print(f\"Meta Model Epoch {epoch}: Average Training Loss: {train_avg_loss:.4f}\")\n",
    "\n",
    "        # Validation phase\n",
    "        meta_model.eval()\n",
    "        val_total_loss = 0\n",
    "        all_labels = []\n",
    "        all_predictions = []\n",
    "\n",
    "        print(f\"Epoch {epoch}/{num_epochs} - Validation Phase\")\n",
    "        val_loader_tqdm = tqdm(meta_val_loader, desc=f\"Validation Epoch {epoch}/{num_epochs}\", leave=False)\n",
    "\n",
    "        with torch.no_grad():\n",
    "            for images, base_outputs, labels in val_loader_tqdm:\n",
    "                images, base_outputs, labels = images.to(device), base_outputs.to(device), labels.to(device)\n",
    "                outputs = meta_model(images, base_outputs)  # Pass both images and base_outputs\n",
    "                loss = criterion(outputs.squeeze(-1), labels)\n",
    "                val_total_loss += loss.item()\n",
    "                all_labels.append(labels.cpu())\n",
    "                all_predictions.append(outputs.cpu())\n",
    "\n",
    "        val_avg_loss = val_total_loss / len(meta_val_loader)\n",
    "        all_labels = torch.cat(all_labels)\n",
    "        all_predictions = torch.cat(all_predictions)\n",
    "        metrics = compute_metrics(all_labels, all_predictions)\n",
    "\n",
    "        results[\"val_loss\"].append(val_avg_loss)\n",
    "        results[\"metrics\"].append(metrics)\n",
    "        print(f\"Meta Model Epoch {epoch}: Validation Loss: {val_avg_loss:.4f}\")\n",
    "        print(f\"Meta Model Epoch {epoch}: Validation Metrics: {metrics}\")\n",
    "\n",
    "    return results\n"
   ]
  },
  {
   "cell_type": "code",
   "execution_count": 90,
   "metadata": {
    "execution": {
     "iopub.execute_input": "2025-01-07T22:40:19.424123Z",
     "iopub.status.busy": "2025-01-07T22:40:19.423740Z",
     "iopub.status.idle": "2025-01-07T22:43:31.856637Z",
     "shell.execute_reply": "2025-01-07T22:43:31.855605Z",
     "shell.execute_reply.started": "2025-01-07T22:40:19.424094Z"
    },
    "trusted": true
   },
   "outputs": [
    {
     "name": "stdout",
     "output_type": "stream",
     "text": [
      "Epoch 0 - Initial Validation Phase\n"
     ]
    },
    {
     "name": "stderr",
     "output_type": "stream",
     "text": [
      "/usr/local/lib/python3.10/dist-packages/sklearn/metrics/_classification.py:1344: UndefinedMetricWarning: Precision is ill-defined and being set to 0.0 due to no predicted samples. Use `zero_division` parameter to control this behavior.\n",
      "  _warn_prf(average, modifier, msg_start, len(result))\n"
     ]
    },
    {
     "name": "stdout",
     "output_type": "stream",
     "text": [
      "Meta Model Epoch 0: Initial Validation Loss: 0.7078\n",
      "Meta Model Epoch 0: Initial Validation Metrics: {'accuracy': 0.2843739528649615, 'recall': 0.0, 'precision': 0.0, 'f1': 0.0}\n",
      "Epoch 1/10 - Training Phase\n"
     ]
    },
    {
     "name": "stderr",
     "output_type": "stream",
     "text": [
      "                                                                                  \r"
     ]
    },
    {
     "name": "stdout",
     "output_type": "stream",
     "text": [
      "Meta Model Epoch 1: Average Training Loss: 0.5562\n",
      "Epoch 1/10 - Validation Phase\n"
     ]
    },
    {
     "name": "stderr",
     "output_type": "stream",
     "text": [
      "                                                                        \r"
     ]
    },
    {
     "name": "stdout",
     "output_type": "stream",
     "text": [
      "Meta Model Epoch 1: Validation Loss: 0.5381\n",
      "Meta Model Epoch 1: Validation Metrics: {'accuracy': 0.7483525075393723, 'recall': 0.9981270485406587, 'precision': 0.7405048633626679, 'f1': 0.8502293425513529}\n",
      "Epoch 2/10 - Training Phase\n"
     ]
    },
    {
     "name": "stderr",
     "output_type": "stream",
     "text": [
      "                                                                                  \r"
     ]
    },
    {
     "name": "stdout",
     "output_type": "stream",
     "text": [
      "Meta Model Epoch 2: Average Training Loss: 0.5210\n",
      "Epoch 2/10 - Validation Phase\n"
     ]
    },
    {
     "name": "stderr",
     "output_type": "stream",
     "text": [
      "                                                                        \r"
     ]
    },
    {
     "name": "stdout",
     "output_type": "stream",
     "text": [
      "Meta Model Epoch 2: Validation Loss: 0.5025\n",
      "Meta Model Epoch 2: Validation Metrics: {'accuracy': 0.7802971071149335, 'recall': 0.9548930856875293, 'precision': 0.7847614161108261, 'f1': 0.8615081320847708}\n",
      "Epoch 3/10 - Training Phase\n"
     ]
    },
    {
     "name": "stderr",
     "output_type": "stream",
     "text": [
      "                                                                                  \r"
     ]
    },
    {
     "name": "stdout",
     "output_type": "stream",
     "text": [
      "Meta Model Epoch 3: Average Training Loss: 0.4913\n",
      "Epoch 3/10 - Validation Phase\n"
     ]
    },
    {
     "name": "stderr",
     "output_type": "stream",
     "text": [
      "                                                                        \r"
     ]
    },
    {
     "name": "stdout",
     "output_type": "stream",
     "text": [
      "Meta Model Epoch 3: Validation Loss: 0.4628\n",
      "Meta Model Epoch 3: Validation Metrics: {'accuracy': 0.8010722662794594, 'recall': 0.9458404869673794, 'precision': 0.8086469175340272, 'f1': 0.8718797208833896}\n",
      "Epoch 4/10 - Training Phase\n"
     ]
    },
    {
     "name": "stderr",
     "output_type": "stream",
     "text": [
      "                                                                                  \r"
     ]
    },
    {
     "name": "stdout",
     "output_type": "stream",
     "text": [
      "Meta Model Epoch 4: Average Training Loss: 0.4565\n",
      "Epoch 4/10 - Validation Phase\n"
     ]
    },
    {
     "name": "stderr",
     "output_type": "stream",
     "text": [
      "                                                                        \r"
     ]
    },
    {
     "name": "stdout",
     "output_type": "stream",
     "text": [
      "Meta Model Epoch 4: Validation Loss: 0.4073\n",
      "Meta Model Epoch 4: Validation Metrics: {'accuracy': 0.8114598458617224, 'recall': 0.9850163883252693, 'precision': 0.7985575098064026, 'f1': 0.882040531097135}\n",
      "Epoch 5/10 - Training Phase\n"
     ]
    },
    {
     "name": "stderr",
     "output_type": "stream",
     "text": [
      "                                                                                  \r"
     ]
    },
    {
     "name": "stdout",
     "output_type": "stream",
     "text": [
      "Meta Model Epoch 5: Average Training Loss: 0.4069\n",
      "Epoch 5/10 - Validation Phase\n"
     ]
    },
    {
     "name": "stderr",
     "output_type": "stream",
     "text": [
      "                                                                        \r"
     ]
    },
    {
     "name": "stdout",
     "output_type": "stream",
     "text": [
      "Meta Model Epoch 5: Validation Loss: 0.3344\n",
      "Meta Model Epoch 5: Validation Metrics: {'accuracy': 0.8501061096839049, 'recall': 0.988450132667395, 'precision': 0.8331798447572688, 'f1': 0.9041976013706453}\n",
      "Epoch 6/10 - Training Phase\n"
     ]
    },
    {
     "name": "stderr",
     "output_type": "stream",
     "text": [
      "                                                                                  \r"
     ]
    },
    {
     "name": "stdout",
     "output_type": "stream",
     "text": [
      "Meta Model Epoch 6: Average Training Loss: 0.3406\n",
      "Epoch 6/10 - Validation Phase\n"
     ]
    },
    {
     "name": "stderr",
     "output_type": "stream",
     "text": [
      "                                                                        \r"
     ]
    },
    {
     "name": "stdout",
     "output_type": "stream",
     "text": [
      "Meta Model Epoch 6: Validation Loss: 0.2574\n",
      "Meta Model Epoch 6: Validation Metrics: {'accuracy': 0.8907628727800737, 'recall': 0.9862650226314968, 'precision': 0.8765432098765432, 'f1': 0.9281727379553467}\n",
      "Epoch 7/10 - Training Phase\n"
     ]
    },
    {
     "name": "stderr",
     "output_type": "stream",
     "text": [
      "                                                                                   \r"
     ]
    },
    {
     "name": "stdout",
     "output_type": "stream",
     "text": [
      "Meta Model Epoch 7: Average Training Loss: 0.2530\n",
      "Epoch 7/10 - Validation Phase\n"
     ]
    },
    {
     "name": "stderr",
     "output_type": "stream",
     "text": [
      "                                                                        \r"
     ]
    },
    {
     "name": "stdout",
     "output_type": "stream",
     "text": [
      "Meta Model Epoch 7: Validation Loss: 0.1676\n",
      "Meta Model Epoch 7: Validation Metrics: {'accuracy': 0.9583379872668379, 'recall': 0.9804900889651943, 'precision': 0.9620214395099541, 'f1': 0.9711679678441679}\n",
      "Epoch 8/10 - Training Phase\n"
     ]
    },
    {
     "name": "stderr",
     "output_type": "stream",
     "text": [
      "                                                                                   \r"
     ]
    },
    {
     "name": "stdout",
     "output_type": "stream",
     "text": [
      "Meta Model Epoch 8: Average Training Loss: 0.1630\n",
      "Epoch 8/10 - Validation Phase\n"
     ]
    },
    {
     "name": "stderr",
     "output_type": "stream",
     "text": [
      "                                                                        \r"
     ]
    },
    {
     "name": "stdout",
     "output_type": "stream",
     "text": [
      "Meta Model Epoch 8: Validation Loss: 0.0853\n",
      "Meta Model Epoch 8: Validation Metrics: {'accuracy': 0.9806768680889087, 'recall': 0.9956297799282036, 'precision': 0.9777743715511956, 'f1': 0.9866212976567937}\n",
      "Epoch 9/10 - Training Phase\n"
     ]
    },
    {
     "name": "stderr",
     "output_type": "stream",
     "text": [
      "                                                                                   \r"
     ]
    },
    {
     "name": "stdout",
     "output_type": "stream",
     "text": [
      "Meta Model Epoch 9: Average Training Loss: 0.0896\n",
      "Epoch 9/10 - Validation Phase\n"
     ]
    },
    {
     "name": "stderr",
     "output_type": "stream",
     "text": [
      "                                                                        \r"
     ]
    },
    {
     "name": "stdout",
     "output_type": "stream",
     "text": [
      "Meta Model Epoch 9: Validation Loss: 0.0558\n",
      "Meta Model Epoch 9: Validation Metrics: {'accuracy': 0.9906176700547302, 'recall': 0.9882940533791166, 'precision': 0.9985806655101719, 'f1': 0.9934107310950738}\n",
      "Epoch 10/10 - Training Phase\n"
     ]
    },
    {
     "name": "stderr",
     "output_type": "stream",
     "text": [
      "                                                                                     \r"
     ]
    },
    {
     "name": "stdout",
     "output_type": "stream",
     "text": [
      "Meta Model Epoch 10: Average Training Loss: 0.0416\n",
      "Epoch 10/10 - Validation Phase\n"
     ]
    },
    {
     "name": "stderr",
     "output_type": "stream",
     "text": [
      "                                                                         "
     ]
    },
    {
     "name": "stdout",
     "output_type": "stream",
     "text": [
      "Meta Model Epoch 10: Validation Loss: 0.0264\n",
      "Meta Model Epoch 10: Validation Metrics: {'accuracy': 0.9950854462191444, 'recall': 0.9993756828468863, 'precision': 0.9937917119354338, 'f1': 0.9965758754863813}\n"
     ]
    },
    {
     "name": "stderr",
     "output_type": "stream",
     "text": [
      "\r"
     ]
    }
   ],
   "source": [
    "# Initialize the Meta Model\n",
    "meta_model = MetaModel().to(device)  # Ensure the model is moved to the correct device\n",
    "\n",
    "# Define optimizer and loss function\n",
    "meta_optimizer = torch.optim.Adam(meta_model.parameters(), lr=1e-4)\n",
    "criterion = nn.BCELoss()  # Binary Cross-Entropy Loss for binary classification\n",
    "\n",
    "# Train the meta-model and collect results\n",
    "results = train_meta_model(\n",
    "    meta_model=meta_model,\n",
    "    meta_loader=meta_loader,\n",
    "    meta_val_loader = meta_val_loader,\n",
    "    meta_optimizer=meta_optimizer,\n",
    "    criterion=criterion,\n",
    "    device=device,\n",
    "    num_epochs=10\n",
    ")"
   ]
  },
  {
   "cell_type": "code",
   "execution_count": 91,
   "metadata": {
    "execution": {
     "iopub.execute_input": "2025-01-07T22:43:36.515413Z",
     "iopub.status.busy": "2025-01-07T22:43:36.515043Z",
     "iopub.status.idle": "2025-01-07T22:43:37.171015Z",
     "shell.execute_reply": "2025-01-07T22:43:37.169955Z",
     "shell.execute_reply.started": "2025-01-07T22:43:36.515378Z"
    },
    "trusted": true
   },
   "outputs": [
    {
     "data": {
      "image/png": "[encoded data removed]",
      "text/plain": [
       "<Figure size 1500x500 with 2 Axes>"
      ]
     },
     "metadata": {},
     "output_type": "display_data"
    }
   ],
   "source": [
    "# Plot the training loss and metrics\n",
    "plot_all_models([results])\n"
   ]
  },
  {
   "cell_type": "code",
   "execution_count": 99,
   "metadata": {
    "execution": {
     "iopub.execute_input": "2025-01-07T23:42:11.627771Z",
     "iopub.status.busy": "2025-01-07T23:42:11.627416Z",
     "iopub.status.idle": "2025-01-07T23:42:11.631859Z",
     "shell.execute_reply": "2025-01-07T23:42:11.631111Z",
     "shell.execute_reply.started": "2025-01-07T23:42:11.627740Z"
    },
    "trusted": true
   },
   "outputs": [],
   "source": [
    "save_dir = './models'\n",
    "os.makedirs(save_dir, exist_ok=True)"
   ]
  },
  {
   "cell_type": "code",
   "execution_count": 100,
   "metadata": {
    "execution": {
     "iopub.execute_input": "2025-01-07T23:42:14.607538Z",
     "iopub.status.busy": "2025-01-07T23:42:14.607118Z",
     "iopub.status.idle": "2025-01-07T23:42:15.038655Z",
     "shell.execute_reply": "2025-01-07T23:42:15.037729Z",
     "shell.execute_reply.started": "2025-01-07T23:42:14.607502Z"
    },
    "trusted": true
   },
   "outputs": [],
   "source": [
    "torch.save(meta_model, os.path.join(save_dir, 'meta_model.pth'))\n",
    "for i, base_model in enumerate(base_models):\n",
    "    torch.save(base_model, os.path.join(save_dir, f'base_model_{i+1}.pth'))\n",
    "    "
   ]
  }
 ],
 "metadata": {
  "kaggle": {
   "accelerator": "gpu",
   "dataSources": [],
   "dockerImageVersionId": 30823,
   "isGpuEnabled": true,
   "isInternetEnabled": true,
   "language": "python",
   "sourceType": "notebook"
  },
  "kernelspec": {
   "display_name": "Python 3",
   "language": "python",
   "name": "python3"
  },
  "language_info": {
   "codemirror_mode": {
    "name": "ipython",
    "version": 3
   },
   "file_extension": ".py",
   "mimetype": "text/x-python",
   "name": "python",
   "nbconvert_exporter": "python",
   "pygments_lexer": "ipython3",
   "version": "3.10.12"
  }
 },
 "nbformat": 4,
 "nbformat_minor": 4
}
